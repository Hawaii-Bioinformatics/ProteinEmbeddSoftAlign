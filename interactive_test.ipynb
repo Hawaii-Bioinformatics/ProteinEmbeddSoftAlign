{
 "cells": [
  {
   "cell_type": "code",
   "execution_count": 1,
   "id": "f3a063c9",
   "metadata": {},
   "outputs": [],
   "source": [
    "from soft_align import *"
   ]
  },
  {
   "cell_type": "code",
   "execution_count": 2,
   "id": "76604df4",
   "metadata": {},
   "outputs": [],
   "source": [
    "embedding_directory = './soft_align_example/example_embeddings/'\n",
    "\n",
    "fasta_directory = './soft_align_example/'\n",
    "fasta_file = 'example.fasta'\n"
   ]
  },
  {
   "cell_type": "code",
   "execution_count": 3,
   "id": "0bb302d1",
   "metadata": {},
   "outputs": [
    {
     "name": "stdout",
     "output_type": "stream",
     "text": [
      "['YP_006990334.1', 'YP_001468397.1', 'WP_016056174.1']\n"
     ]
    }
   ],
   "source": [
    "\"\"\" \n",
    "Load FASTA file \n",
    "\"\"\"\n",
    "\n",
    "seqs = SeqIO.to_dict(SeqIO.parse(fasta_directory + fasta_file, 'fasta'))\n",
    "\n",
    "# Create a list of sequence IDs for easy access.\n",
    "seqids_list = list(seqs.keys())\n",
    "print(seqids_list)"
   ]
  },
  {
   "cell_type": "code",
   "execution_count": 4,
   "id": "eabefd3e",
   "metadata": {},
   "outputs": [
    {
     "data": {
      "text/plain": [
       "Seq('MQNNKNFQNVLLAHINNIKDLPLKARIDYFEDDKDDLVIN')"
      ]
     },
     "execution_count": 4,
     "metadata": {},
     "output_type": "execute_result"
    }
   ],
   "source": [
    "seqs['YP_006990334.1'].seq[0:40]"
   ]
  },
  {
   "cell_type": "code",
   "execution_count": 5,
   "id": "fb28cb9b",
   "metadata": {},
   "outputs": [],
   "source": [
    "seq_1_str =  str(seqs[seqids_list[0]].seq)\n",
    "seq_2_str =  str(seqs[seqids_list[1]].seq)\n"
   ]
  },
  {
   "cell_type": "code",
   "execution_count": 6,
   "id": "63ac4889",
   "metadata": {},
   "outputs": [
    {
     "data": {
      "text/plain": [
       "135"
      ]
     },
     "execution_count": 6,
     "metadata": {},
     "output_type": "execute_result"
    }
   ],
   "source": [
    "len(seq_1_str)"
   ]
  },
  {
   "cell_type": "code",
   "execution_count": 7,
   "id": "86023d24",
   "metadata": {},
   "outputs": [],
   "source": [
    "seq_1 = torch.load(f\"{embedding_directory + seqids_list[0]}.pt\")\n",
    "seq_2 = torch.load(f\"{embedding_directory + seqids_list[2]}.pt\")"
   ]
  },
  {
   "cell_type": "code",
   "execution_count": 8,
   "id": "431318d1",
   "metadata": {},
   "outputs": [
    {
     "data": {
      "text/html": [
       "<div>\n",
       "<style scoped>\n",
       "    .dataframe tbody tr th:only-of-type {\n",
       "        vertical-align: middle;\n",
       "    }\n",
       "\n",
       "    .dataframe tbody tr th {\n",
       "        vertical-align: top;\n",
       "    }\n",
       "\n",
       "    .dataframe thead th {\n",
       "        text-align: right;\n",
       "    }\n",
       "</style>\n",
       "<table border=\"1\" class=\"dataframe\">\n",
       "  <thead>\n",
       "    <tr style=\"text-align: right;\">\n",
       "      <th></th>\n",
       "      <th>0</th>\n",
       "      <th>1</th>\n",
       "      <th>2</th>\n",
       "      <th>3</th>\n",
       "      <th>4</th>\n",
       "    </tr>\n",
       "  </thead>\n",
       "  <tbody>\n",
       "    <tr>\n",
       "      <th>0</th>\n",
       "      <td>1.000000</td>\n",
       "      <td>0.894388</td>\n",
       "      <td>0.888828</td>\n",
       "      <td>0.869619</td>\n",
       "      <td>0.870948</td>\n",
       "    </tr>\n",
       "    <tr>\n",
       "      <th>1</th>\n",
       "      <td>0.894388</td>\n",
       "      <td>1.000000</td>\n",
       "      <td>0.923971</td>\n",
       "      <td>0.891229</td>\n",
       "      <td>0.904938</td>\n",
       "    </tr>\n",
       "    <tr>\n",
       "      <th>2</th>\n",
       "      <td>0.888828</td>\n",
       "      <td>0.923971</td>\n",
       "      <td>1.000000</td>\n",
       "      <td>0.938030</td>\n",
       "      <td>0.908117</td>\n",
       "    </tr>\n",
       "    <tr>\n",
       "      <th>3</th>\n",
       "      <td>0.869619</td>\n",
       "      <td>0.891229</td>\n",
       "      <td>0.938030</td>\n",
       "      <td>1.000001</td>\n",
       "      <td>0.920476</td>\n",
       "    </tr>\n",
       "    <tr>\n",
       "      <th>4</th>\n",
       "      <td>0.870948</td>\n",
       "      <td>0.904938</td>\n",
       "      <td>0.908117</td>\n",
       "      <td>0.920476</td>\n",
       "      <td>1.000000</td>\n",
       "    </tr>\n",
       "  </tbody>\n",
       "</table>\n",
       "</div>"
      ],
      "text/plain": [
       "          0         1         2         3         4\n",
       "0  1.000000  0.894388  0.888828  0.869619  0.870948\n",
       "1  0.894388  1.000000  0.923971  0.891229  0.904938\n",
       "2  0.888828  0.923971  1.000000  0.938030  0.908117\n",
       "3  0.869619  0.891229  0.938030  1.000001  0.920476\n",
       "4  0.870948  0.904938  0.908117  0.920476  1.000000"
      ]
     },
     "execution_count": 8,
     "metadata": {},
     "output_type": "execute_result"
    }
   ],
   "source": [
    "data = get_data_matrix(seq_1,seq_2)\n",
    "data.iloc[0:5, 0:5]"
   ]
  },
  {
   "cell_type": "code",
   "execution_count": 9,
   "id": "7a5a1a5d",
   "metadata": {},
   "outputs": [
    {
     "data": {
      "text/plain": [
       "(135, 135)"
      ]
     },
     "execution_count": 9,
     "metadata": {},
     "output_type": "execute_result"
    }
   ],
   "source": [
    "data.shape"
   ]
  },
  {
   "cell_type": "code",
   "execution_count": 13,
   "id": "65e2bce4",
   "metadata": {},
   "outputs": [
    {
     "data": {
      "text/plain": [
       "[(41, 40), (25, 23), (55, 57), (96, 95), (81, 85)]"
      ]
     },
     "execution_count": 13,
     "metadata": {},
     "output_type": "execute_result"
    }
   ],
   "source": [
    "matches = get_matches(seq_1_str, seq_2_str, data)\n",
    "matches[0:5]"
   ]
  },
  {
   "cell_type": "code",
   "execution_count": 23,
   "id": "ca4f16df",
   "metadata": {},
   "outputs": [
    {
     "data": {
      "text/plain": [
       "[(0, 0), (1, 1), (2, 2), (3, 3), (4, 4)]"
      ]
     },
     "execution_count": 23,
     "metadata": {},
     "output_type": "execute_result"
    }
   ],
   "source": [
    "longest_path = get_longest_path(data, matches)\n",
    "longest_path [0:5]"
   ]
  },
  {
   "cell_type": "code",
   "execution_count": 32,
   "id": "78de635b",
   "metadata": {},
   "outputs": [],
   "source": [
    "def find_homologous_pos(seq_1_str, seq_1_pos, seq_2_str, seq_1_embedding, seq_2_embedding):\n",
    "    data = get_data_matrix(seq_1_embedding, seq_2_embedding)\n",
    "    matches = get_matches(seq_1_str, seq_2_str, data)\n",
    "    longest_path = get_longest_path(data, matches)\n",
    "    longest_path_dict = dict(longest_path)\n",
    "    return longest_path_dict.get(seq_1_pos, None)\n"
   ]
  },
  {
   "cell_type": "code",
   "execution_count": 36,
   "id": "13d50197",
   "metadata": {},
   "outputs": [],
   "source": []
  },
  {
   "cell_type": "code",
   "execution_count": null,
   "id": "e2997054",
   "metadata": {},
   "outputs": [],
   "source": []
  }
 ],
 "metadata": {
  "kernelspec": {
   "display_name": "Python 3 (ipykernel)",
   "language": "python",
   "name": "python3"
  },
  "language_info": {
   "codemirror_mode": {
    "name": "ipython",
    "version": 3
   },
   "file_extension": ".py",
   "mimetype": "text/x-python",
   "name": "python",
   "nbconvert_exporter": "python",
   "pygments_lexer": "ipython3",
   "version": "3.9.16"
  }
 },
 "nbformat": 4,
 "nbformat_minor": 5
}
