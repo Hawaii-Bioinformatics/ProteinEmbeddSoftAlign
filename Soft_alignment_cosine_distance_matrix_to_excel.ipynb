{
 "cells": [
  {
   "cell_type": "code",
   "execution_count": 1,
   "id": "b419d88d",
   "metadata": {},
   "outputs": [],
   "source": [
    "# !pip install xlwings\n",
    "# !pip install torch"
   ]
  },
  {
   "cell_type": "code",
   "execution_count": 2,
   "id": "a684a9cd",
   "metadata": {},
   "outputs": [],
   "source": [
    "# Import soft alignment functions\n",
    "\n",
    "from soft_align import *"
   ]
  },
  {
   "cell_type": "code",
   "execution_count": 3,
   "id": "c218dcbf",
   "metadata": {},
   "outputs": [],
   "source": [
    "# Import necessary libraries\n",
    "\n",
    "import xlwings as xw"
   ]
  },
  {
   "cell_type": "code",
   "execution_count": 4,
   "id": "dad0023f",
   "metadata": {},
   "outputs": [],
   "source": [
    "def build_excel_sheet(seq_1_str,seq_2_str,seq_1_embedding, seq_2_embedding):\n",
    "    # Excel (the program should already be open)\n",
    "    # Create new excel workbook containing an empty sheet\n",
    "    wb = xw.Book()\n",
    "    sheet = wb.sheets[0]\n",
    "    \n",
    "    ### Add first seq with indices at cols 0 and 1\n",
    "    sheet['A3'].value = [[x] for x in range(0,len(seq_1_str))]\n",
    "    sheet['B3'].value = [[x] for x in seq_1_str]\n",
    "\n",
    "    ### Add second seq with indices at rows 0 and 1\n",
    "    sheet['C1'].value = list(range(0, len(seq_2_str)))\n",
    "    sheet['C2'].value = list(seq_2_str)\n",
    "    \n",
    "    # Generate matrix containing cosine distances of amino acid embeddings from sequence representations\n",
    "    data = get_data_matrix(seq_1_embedding, seq_2_embedding)\n",
    "    \n",
    "    # Generate matches of amino acids from cosine distance matrix\n",
    "    matches = get_matches(seq_1_str, seq_2_str, data)\n",
    "    \n",
    "    # Generate a longest path of matches that diagonally traverse the matrix, to be considered soft alignment\n",
    "    longest_path = get_longest_path(data, matches)\n",
    "    \n",
    "    ### Populate empty excel sheet with cosine distance matrix\n",
    "    sheet['C3'].options(index=False).value = data.to_numpy()\n",
    "    \n",
    "    # Color longest path in cosine distance matrix 'yellow'\n",
    "    for m in longest_path:\n",
    "        m = (m[0]+2, m[1]+2)\n",
    "        sheet[m].color = (254, 254, 69)\n",
    "\n",
    "    return\n",
    "    "
   ]
  },
  {
   "cell_type": "code",
   "execution_count": 5,
   "id": "3ac4d53c",
   "metadata": {
    "scrolled": true
   },
   "outputs": [],
   "source": [
    "# Set path for directories where sequence embeddings are stored and where sequences in fasta file is stored\n",
    "\n",
    "embedding_directory = './soft_align_example/example_embeddings/'\n",
    "\n",
    "fasta_directory = './soft_align_example/'\n",
    "fasta_file = 'example.fasta'\n"
   ]
  },
  {
   "cell_type": "code",
   "execution_count": 6,
   "id": "d134e404",
   "metadata": {
    "scrolled": true
   },
   "outputs": [
    {
     "name": "stdout",
     "output_type": "stream",
     "text": [
      "['YP_006990334.1', 'YP_001468397.1', 'WP_016056174.1']\n"
     ]
    }
   ],
   "source": [
    "# Load fasta file as a dictionary\n",
    "# Keys in seqs dictionary are sequence names\n",
    "# Values in seqs dictionary are the information for each sequence stored in the fasta file\n",
    "\n",
    "seqs = SeqIO.to_dict(SeqIO.parse(fasta_directory + fasta_file, 'fasta'))\n",
    "\n",
    "# Create a list of sequence names\n",
    "seq_names = list(seqs.keys())\n",
    "print(seq_names)"
   ]
  },
  {
   "cell_type": "code",
   "execution_count": 7,
   "id": "485ff42c",
   "metadata": {},
   "outputs": [
    {
     "data": {
      "text/plain": [
       "Seq('MQNNKNFQNVLLAHINNIKDLPLKARIDYFEDDKDDLVIN')"
      ]
     },
     "execution_count": 7,
     "metadata": {},
     "output_type": "execute_result"
    }
   ],
   "source": [
    "# Print sequence from seqs dictionary\n",
    "\n",
    "seqs['YP_006990334.1'].seq[0:40]"
   ]
  },
  {
   "cell_type": "code",
   "execution_count": 8,
   "id": "dd07432c",
   "metadata": {},
   "outputs": [],
   "source": [
    "# Create a string of the sequences being compared\n",
    "\n",
    "seq_1_str =  str(seqs[seq_names[0]].seq)\n",
    "seq_2_str =  str(seqs[seq_names[1]].seq)\n"
   ]
  },
  {
   "cell_type": "code",
   "execution_count": 9,
   "id": "0fd75ff0",
   "metadata": {},
   "outputs": [
    {
     "name": "stdout",
     "output_type": "stream",
     "text": [
      "Length Sequence 1:  135\n",
      "Length Sequence 2:  135\n"
     ]
    }
   ],
   "source": [
    "# Print the length of the sequence strings\n",
    "\n",
    "print(\"Length Sequence 1: \", len(seq_1_str))\n",
    "print(\"Length Sequence 2: \", len(seq_2_str))"
   ]
  },
  {
   "cell_type": "code",
   "execution_count": 10,
   "id": "9c1e6013",
   "metadata": {},
   "outputs": [],
   "source": [
    "# Create dictionary containing the embeddings of sequences\n",
    "# Sequence name and representation are stored in the dictionary\n",
    "\n",
    "seq_1_embedding = torch.load(f\"{embedding_directory + seq_names[0]}.pt\")\n",
    "seq_2_embedding = torch.load(f\"{embedding_directory + seq_names[1]}.pt\")"
   ]
  },
  {
   "cell_type": "code",
   "execution_count": null,
   "id": "32adaa07",
   "metadata": {},
   "outputs": [],
   "source": [
    "# Keys of embedding dictionaries\n",
    "\n",
    "print(\"Sequence 1 Dictionary Keys: \", seq_1_embedding.keys())\n",
    "print(\"Sequence 2 Dictionary Keys: \", seq_2_embedding.keys())"
   ]
  },
  {
   "cell_type": "code",
   "execution_count": null,
   "id": "1271864f",
   "metadata": {},
   "outputs": [],
   "source": [
    "# Generate matrix containing cosine distances of amino acid embeddings from sequence representations\n",
    "\n",
    "data = get_data_matrix(seq_1_embedding,seq_2_embedding)\n",
    "data.iloc[0:5, 0:5]"
   ]
  },
  {
   "cell_type": "code",
   "execution_count": null,
   "id": "5e2bd193",
   "metadata": {},
   "outputs": [],
   "source": [
    "# Shape of cosine distance matrix\n",
    "# Shape corresponds to (length of sequence 1, length of sequence 2)\n",
    "\n",
    "data.shape"
   ]
  },
  {
   "cell_type": "code",
   "execution_count": null,
   "id": "1c442d1d",
   "metadata": {},
   "outputs": [],
   "source": [
    "# Build excel sheet containing cosine distance matrix and colored longest path\n",
    "\n",
    "build_excel_sheet(seq_1_str,seq_2_str,seq_1_embedding, seq_2_embedding)"
   ]
  }
 ],
 "metadata": {
  "kernelspec": {
   "display_name": "Python 3 (ipykernel)",
   "language": "python",
   "name": "python3"
  },
  "language_info": {
   "codemirror_mode": {
    "name": "ipython",
    "version": 3
   },
   "file_extension": ".py",
   "mimetype": "text/x-python",
   "name": "python",
   "nbconvert_exporter": "python",
   "pygments_lexer": "ipython3",
   "version": "3.9.12"
  }
 },
 "nbformat": 4,
 "nbformat_minor": 5
}
